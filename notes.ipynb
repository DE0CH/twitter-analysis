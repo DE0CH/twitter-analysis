{
 "cells": [
  {
   "cell_type": "code",
   "execution_count": null,
   "metadata": {
    "collapsed": true
   },
   "outputs": [],
   "source": []
  },
  {
   "cell_type": "markdown",
   "source": [
    "one twitter message is about 4kb\n",
    "\n",
    "50G to 2.5G when filtered by geo location for one month\n",
    "\n",
    "estimate 6250000 tweets in total \n",
    "\n",
    "45253479 characters for Feb and 637787 tweets for Feb. Meaning per message 70 characters\n",
    "\n",
    "6250000"
   ],
   "metadata": {
    "collapsed": false
   }
  },
  {
   "cell_type": "markdown",
   "source": [
    "I made a really bad naming scheme, but it's too annoying to change now cause the names are littered everywhere.\n",
    "\n",
    "`downloads` stores exclusively the tar files from archive.org\n",
    "`untarred` are folders with extracted tar files\n",
    "`processed` are those that have been geo filtered\n",
    "`countries` are those regrouped by countries (to optimise processing time in wolfram\n",
    "\n"
   ],
   "metadata": {
    "collapsed": false
   }
  }
 ],
 "metadata": {
  "kernelspec": {
   "display_name": "Python 3",
   "language": "python",
   "name": "python3"
  },
  "language_info": {
   "codemirror_mode": {
    "name": "ipython",
    "version": 2
   },
   "file_extension": ".py",
   "mimetype": "text/x-python",
   "name": "python",
   "nbconvert_exporter": "python",
   "pygments_lexer": "ipython2",
   "version": "2.7.6"
  },
  "pycharm": {
   "stem_cell": {
    "cell_type": "raw",
    "source": [],
    "metadata": {
     "collapsed": false
    }
   }
  }
 },
 "nbformat": 4,
 "nbformat_minor": 0
}